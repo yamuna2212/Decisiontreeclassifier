{
 "cells": [
  {
   "cell_type": "markdown",
   "id": "a5ada517-d8e6-4cda-8dca-22f4372e0b2a",
   "metadata": {},
   "source": [
    "### For this implementation uses a decision tree classifier to predict the label of a fruit based on its color and weight. The data is stored in a pandas DataFrame and split into training and testing sets. The classifier is trained on the training data, and its accuracy is tested on the testing data.\n",
    "\n",
    "Remember to encode the variable 'color' using, for example, 'get_dummies'. The models only understand numbers, not words or strings.\n",
    "\n",
    "Split the dataset by using the function train_test_split(). You need to pass 3 parameters features, target, and test_set size. Split the dataset 30% test and 70% train and set using a random state=0. Store output of the split in X_train, Y_train, X_test and Y_test.\n",
    "\n",
    "Then implement the decision tree using only random_state=0. Store the model in the variable cf, and finnaly estimate the accuracy of the model using the test dataset.\n",
    "\n",
    "# Create the data for the fruit classifier\n",
    "data = {'fruit': ['apple', 'banana', 'apple', 'banana', 'banana','apple','apple','apple'],\n",
    "        'color': ['red', 'yellow', 'green', 'yellow', 'yellow','green', 'green', 'red'],\n",
    "        'weight': [200, 100, 150, 90, 85,95,99,102],\n",
    "        'label': [0, 1, 0, 1, 1,0,0,0]}\n",
    "df = pd.DataFrame(data)\n",
    "df.head()\n",
    "The results of the accuracy calculation should be stored in the variables train_accuracy and test_accuracy for the training and testing sets, respectively.\n",
    "\n"
   ]
  },
  {
   "cell_type": "code",
   "execution_count": null,
   "id": "5c497408-cdd9-4018-b018-e85f06f7dea8",
   "metadata": {},
   "outputs": [],
   "source": []
  },
  {
   "cell_type": "code",
   "execution_count": 13,
   "id": "f842b419-b276-4933-ad6e-196c9382a597",
   "metadata": {},
   "outputs": [
    {
     "name": "stdout",
     "output_type": "stream",
     "text": [
      "Training Accuracy: 1.0\n",
      "Testing Accuracy: 1.0\n"
     ]
    }
   ],
   "source": [
    "import pandas as pd\n",
    "from sklearn.model_selection import train_test_split\n",
    "from sklearn.tree import DecisionTreeClassifier\n",
    "from sklearn.metrics import accuracy_score\n",
    "\n",
    "# Create the data for the fruit classifier\n",
    "data = {'fruit': ['apple', 'banana', 'apple', 'banana', 'banana', 'apple', 'apple', 'apple'],\n",
    "        'color': ['red', 'yellow', 'green', 'yellow', 'yellow', 'green', 'green', 'red'],\n",
    "        'weight': [200, 100, 150, 90, 85, 95, 99, 102],\n",
    "        'label': [0, 1, 0, 1, 1, 0, 0, 0]}\n",
    "df = pd.DataFrame(data)\n",
    "\n",
    "# Encode the 'color' variable using get_dummies\n",
    "df_encoded = pd.get_dummies(df, columns=['color'])\n",
    "\n",
    "# Split the dataset into features (X) and target (Y)\n",
    "X = df_encoded.drop(['label', 'fruit'], axis=1)  # Remove 'fruit' column\n",
    "y = df_encoded['label']\n",
    "\n",
    "# Split the dataset into training and testing sets (70% train, 30% test)\n",
    "X_train, X_test, y_train, y_test = train_test_split(X, y, test_size=0.3, random_state=0)\n",
    "\n",
    "# Create and train the Decision Tree Classifier\n",
    "cf = DecisionTreeClassifier(random_state=0)\n",
    "cf.fit(X_train, y_train)\n",
    "\n",
    "# Predict labels on the training and testing sets\n",
    "train_predictions = cf.predict(X_train)\n",
    "test_predictions = cf.predict(X_test)\n",
    "\n",
    "# Calculate accuracy for training and testing sets\n",
    "train_accuracy = accuracy_score(y_train, train_predictions)\n",
    "test_accuracy = accuracy_score(y_test, test_predictions)\n",
    "\n",
    "# Print the accuracies\n",
    "print(\"Training Accuracy:\", train_accuracy)\n",
    "print(\"Testing Accuracy:\", test_accuracy)\n"
   ]
  },
  {
   "cell_type": "code",
   "execution_count": null,
   "id": "47e6fd80-64df-4905-89bf-32161d95f47c",
   "metadata": {},
   "outputs": [],
   "source": []
  }
 ],
 "metadata": {
  "kernelspec": {
   "display_name": "Python 3 (ipykernel)",
   "language": "python",
   "name": "python3"
  },
  "language_info": {
   "codemirror_mode": {
    "name": "ipython",
    "version": 3
   },
   "file_extension": ".py",
   "mimetype": "text/x-python",
   "name": "python",
   "nbconvert_exporter": "python",
   "pygments_lexer": "ipython3",
   "version": "3.12.0"
  }
 },
 "nbformat": 4,
 "nbformat_minor": 5
}
